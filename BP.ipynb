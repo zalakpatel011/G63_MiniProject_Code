{
 "cells": [
  {
   "cell_type": "markdown",
   "metadata": {},
   "source": [
    "## Mini Project 1\n",
    "\n",
    "## Recommendation System\n",
    "\n",
    "## 120 Points."
   ]
  },
  {
   "cell_type": "markdown",
   "metadata": {},
   "source": [
    "### Implementation"
   ]
  },
  {
   "cell_type": "markdown",
   "metadata": {},
   "source": [
    "<font color=\"blue\">**Task 1: Reading Data**</font>"
   ]
  },
  {
   "cell_type": "markdown",
   "metadata": {},
   "source": [
    "1. <font color=\"red\">[10 pts]</font> Write a function <font color=\"brown\">read_ratings_data(f)</font> that takes in a ratings file name, and returns a dictionary. (Note: the parameter is a file name string such as \"ratings.csv\", NOT a file pointer.) The dictionary should have ISBN as key, and the list of all ratings for it as value.\n",
    "For example:  book_ratings_dict = { '034545104X': [9, 8, 7], '0486282406': [10, 9, 8] }"
   ]
  },
  {
   "cell_type": "code",
   "execution_count": 30,
   "metadata": {},
   "outputs": [
    {
     "name": "stdout",
     "output_type": "stream",
     "text": [
      "Crash with missing author data (read_book_author): Missing author for ISBN: 034545104X\n"
     ]
    }
   ],
   "source": [
    "import csv\n",
    "\n",
    "def read_ratings_data(f):\n",
    "    '''\n",
    "    IN: f (str) - filename\n",
    "    OUT: book_ratings_dict (dict{str: list[int]}) - dictionary of ratings\n",
    "    '''\n",
    "\n",
    "    # Set up dictionary to store ratings\n",
    "    book_ratings_dict = {}\n",
    "\n",
    "    # Set up csv reader\n",
    "    with open(f, 'r') as csvfile:\n",
    "        reader = csv.DictReader(csvfile)\n",
    "\n",
    "        # Read in data\n",
    "        for row in reader:\n",
    "            isbn = row['ISBN']\n",
    "            rating = int(row['Rating'])\n",
    "            \n",
    "            # Add rating to dictionary\n",
    "            if isbn in book_ratings_dict:\n",
    "                book_ratings_dict[isbn].append(rating)\n",
    "            else:\n",
    "                book_ratings_dict[isbn] = [rating]             \n",
    "\n",
    "    # Return dictionary\n",
    "    return book_ratings_dict\n",
    "\n",
    "#-----\n",
    "\n",
    "# Create a CSV with missing authors to induce a crash\n",
    "malformed_authors_csv = \"\"\"ISBN,Author\n",
    "034545104X,\n",
    "0486282406,Author 2\n",
    "\"\"\"\n",
    "with open('malformed_authors.csv', 'w') as f:\n",
    "    f.write(malformed_authors_csv)\n",
    "\n",
    "# Run the function and catch the crash\n",
    "try:\n",
    "    result = read_book_author('malformed_authors.csv')\n",
    "    print(result)\n",
    "except Exception as e:\n",
    "    print(\"Crash with missing author data (read_book_author):\", e)\n",
    "#-----\n"
   ]
  },
  {
   "cell_type": "markdown",
   "metadata": {},
   "source": [
    "2. <font color=\"red\">[10 pts]</font> Write a function <font color=\"brown\">read_book_author(f)</font> that takes in a books.csv file name and returns a dictionary. The dictionary should have a one-to-one mapping from ISBN to author.\n",
    "For example:   book_author_dict = { '0195153448': 'Mark P. O. Morford', '0373037430': 'Rebecca Winters' }\n",
    "\n",
    "Note: Some books may have multiple authors. In this case, you can take the entire string as a macro author."
   ]
  },
  {
   "cell_type": "code",
   "execution_count": 11,
   "metadata": {},
   "outputs": [
    {
     "name": "stdout",
     "output_type": "stream",
     "text": [
      "Crash with missing author data (read_book_author): Missing author for ISBN: 034545104X\n"
     ]
    }
   ],
   "source": [
    "def read_book_author(f):\n",
    "    '''\n",
    "    IN: f (str) - filename\n",
    "    OUT: book_author_dict (dict{str: str}) - dictionary of book authors\n",
    "    '''\n",
    "\n",
    "    # Set up dictionary to store authors\n",
    "    book_author_dict = {}\n",
    "\n",
    "    # Set up csv reader\n",
    "    with open(f, 'r') as csvfile:\n",
    "        reader = csv.DictReader(csvfile)\n",
    "\n",
    "        # Read in data\n",
    "        for row in reader:\n",
    "            isbn = row['ISBN']\n",
    "            author = row['Author']\n",
    "            # Add author to dictionary\n",
    "            book_author_dict[isbn] = author\n",
    "        \n",
    "        #-----\n",
    "            if not author or author.strip() == \"\":\n",
    "                raise ValueError(f\"Missing author for ISBN: {isbn}\")\n",
    "        #-----\n",
    "        \n",
    "    # Return dictionary\n",
    "    return book_author_dict\n",
    "\n",
    "\n",
    "#-----\n",
    "# Create a CSV with missing authors to induce a crash\n",
    "malformed_authors_csv = \"\"\"ISBN,Author\n",
    "034545104X,\n",
    "0486282406,Author 2\n",
    "\"\"\"\n",
    "with open('malformed_authors.csv', 'w') as f:\n",
    "    f.write(malformed_authors_csv)\n",
    "\n",
    "# Run the function and catch the crash\n",
    "try:\n",
    "    result = read_book_author('malformed_authors.csv')\n",
    "    print(result)\n",
    "except Exception as e:\n",
    "    print(\"Crash with missing author data (read_book_author):\", e)\n",
    "#-----"
   ]
  },
  {
   "cell_type": "markdown",
   "metadata": {},
   "source": [
    "<font color=\"blue\">**Task 2: Processing Data**</font>"
   ]
  },
  {
   "cell_type": "markdown",
   "metadata": {},
   "source": [
    "1. <font color=\"red\">[8 pts]</font> author  dictionary \n",
    "\n",
    "    Write a function<font color=\"brown\"> create_author_dict</font> that takes as a parameter a book dictionary, of the kind created in Task 1.2. The function should return another dictionary in which a author is mapped to all the books in that author.\n",
    "\n",
    "    For example:   { 'Author 1': ['034545104X', '0385333498'], 'Author 2': ['0142000663'] }"
   ]
  },
  {
   "cell_type": "code",
   "execution_count": 12,
   "metadata": {},
   "outputs": [
    {
     "name": "stdout",
     "output_type": "stream",
     "text": [
      "Crash with None input (create_author_dict): 'NoneType' object has no attribute 'items'\n",
      "Crash with invalid structure (create_author_dict): 'list' object has no attribute 'items'\n"
     ]
    }
   ],
   "source": [
    "def create_author_dict(book_author_dict):\n",
    "    '''\n",
    "    IN: book_author_dict (dict{str: str}) - dictionary of book authors\n",
    "    OUT: author_to_books_dict (dict{str: list[str]}) - dictionary of authors and their books\n",
    "    '''\n",
    "\n",
    "    # Set up dictionary to store authors and their books\n",
    "    author_to_books_dict = {}\n",
    "\n",
    "    # Populate dictionary\n",
    "    for ISBN, author in book_author_dict.items():\n",
    "        if author in author_to_books_dict:\n",
    "            author_to_books_dict[author].append(ISBN)\n",
    "        else:\n",
    "            author_to_books_dict[author] = [ISBN]\n",
    "        \n",
    "\n",
    "    # Return dictionary\n",
    "    return author_to_books_dict\n",
    "\n",
    "\n",
    "#-----\n",
    "# Pass None to the function to induce a crash\n",
    "try:\n",
    "    result = create_author_dict(None)\n",
    "    print(result)\n",
    "except Exception as e:\n",
    "    print(\"Crash with None input (create_author_dict):\", e)\n",
    "\n",
    "# Pass an invalid dictionary structure\n",
    "invalid_dict = [(\"034545104X\", \"Author 1\")]  # This is a list, not a dict\n",
    "\n",
    "try:\n",
    "    result = create_author_dict(invalid_dict)\n",
    "    print(result)\n",
    "except Exception as e:\n",
    "    print(\"Crash with invalid structure (create_author_dict):\", e)\n",
    "#-----"
   ]
  },
  {
   "cell_type": "markdown",
   "metadata": {},
   "source": [
    "2. <font color=\"red\">[8 pts]</font> Average Rating\n",
    "    Write a function <font color=\"brown\">calculate_average_rating</font> that takes as a parameter a ratings dictionary, of the kind created in Task 1.1. It should return a dictionary where the book ISBN is mapped to its average rating computed from the ratings list.\n",
    "\n",
    "    For example:   {'034545104X': 4.0, '0375803482': 7.0 }"
   ]
  },
  {
   "cell_type": "code",
   "execution_count": 13,
   "metadata": {},
   "outputs": [
    {
     "name": "stdout",
     "output_type": "stream",
     "text": [
      "Crash with invalid ratings (calculate_average_rating): unsupported operand type(s) for +: 'int' and 'str'\n"
     ]
    }
   ],
   "source": [
    "def calculate_average_rating(book_ratings_dict):\n",
    "    '''\n",
    "    IN: book_ratings_dict (dict{str: list[int]}) - dictionary of ratings\n",
    "    OUT: book_to_average_dict (dict{str: float}) - dictionary of average ratings\n",
    "    '''\n",
    "\n",
    "    # Set up dictionary to store average ratings\n",
    "    book_to_average_dict = {}\n",
    "\n",
    "    # Calculate average rating for each book\n",
    "    for ISBN, ratings in book_ratings_dict.items():\n",
    "        if ratings: # Check if the ratings list is not empty\n",
    "            average_rating = sum(ratings) / len(ratings)\n",
    "            book_to_average_dict[ISBN] = round(average_rating, 2) # Rounds to 2 decimal places\n",
    "\n",
    "    # Return dictionary\n",
    "    return book_to_average_dict\n",
    "\n",
    "\n",
    "#-----\n",
    "# Pass a dictionary with non-integer ratings to induce a crash\n",
    "invalid_ratings_dict = {\n",
    "    '034545104X': [5, 'invalid', 4],  # Non-integer rating\n",
    "    '0486282406': [None, 3, 2]        # None value in ratings\n",
    "}\n",
    "\n",
    "try:\n",
    "    result = calculate_average_rating(invalid_ratings_dict)\n",
    "    print(result)\n",
    "except Exception as e:\n",
    "    print(\"Crash with invalid ratings (calculate_average_rating):\", e)\n",
    "#-----"
   ]
  },
  {
   "cell_type": "markdown",
   "metadata": {},
   "source": [
    "<font color=\"blue\">**Task 3: Recommendation**</font>"
   ]
  },
  {
   "cell_type": "markdown",
   "metadata": {},
   "source": [
    "1. <font color=\"red\">[10 pts]</font> Popularity based\n",
    "\n",
    "    In services such as kindle and goodnotes, you often see recommendations with the heading “Popular Books or “Trending top 10”.\n",
    "\n",
    "    Write a function <font color=\"brown\">get_popular_books</font> that takes as parameters a dictionary of book-to-average rating ( as created in Task 2.2), and an integer n (default should be 10). The function should return a dictionary ( book:average, same structure as input dictionary) of top n books based on the average ratings. If there are fewer than n books, it should return all books in ranked order of average ratings from highest to lowest.\n",
    "\n"
   ]
  },
  {
   "cell_type": "code",
   "execution_count": 18,
   "metadata": {},
   "outputs": [
    {
     "name": "stdout",
     "output_type": "stream",
     "text": [
      "{}\n",
      "Crash with non-numeric values (get_popular_books): '<' not supported between instances of 'str' and 'float'\n"
     ]
    }
   ],
   "source": [
    "def get_popular_books(book_to_average_dict, n=10):\n",
    "    '''\n",
    "    IN: book_to_average_dict (dict{str: float}) - dictionary of average ratings\n",
    "        n (int) - number of books to return\n",
    "    OUT: popular_books_dict (dict{str: float}) - dictionary of top n books\n",
    "    '''\n",
    "\n",
    "    # Sort books by average rating\n",
    "    sorted_books = sorted(book_to_average_dict.items(), key=lambda x: x[1], reverse=True)\n",
    "\n",
    "    # Get the top n books or all books if there are fewer than n\n",
    "    popular_books = sorted_books[:n]\n",
    "\n",
    "    # Convert list of tuples back to dictionary\n",
    "    popular_books_dict = dict(popular_books)\n",
    "\n",
    "    # Return top n books\n",
    "    return popular_books_dict\n",
    "\n",
    "\n",
    "#-----\n",
    "# Test Case: Passing a negative n to induce a crash\n",
    "try:\n",
    "    result = get_popular_books({'034545104X': 4.5, '0486282406': 3.0}, n=-10)\n",
    "    print(result)\n",
    "except Exception as e:\n",
    "    print(\"Crash with negative n (get_popular_books):\", e)\n",
    "  \n",
    "#-----\n",
    "\n",
    "# Test Case: Passing non-numeric values in the dictionary\n",
    "try:\n",
    "    result = get_popular_books({'034545104X': 'not_a_number', '0486282406': 3.0})\n",
    "    print(result)\n",
    "except Exception as e:\n",
    "    print(\"Crash with non-numeric values (get_popular_books):\", e)\n",
    "#----"
   ]
  },
  {
   "cell_type": "markdown",
   "metadata": {},
   "source": [
    "2. <font color=\"red\">[10  pts]</font> Threshold Rating\n",
    "\n",
    "    Write a function <font color=\"brown\"> filter_books </font> that takes as parameters a dictionary of book-to-average rating (same as for the popularity based function above), and a threshold rating with default value of 3. The function should filter books  based on the threshold rating, and return a dictionary with same structure as the input. \n",
    "    For example, if the threshold rating is 3.5, the returned dictionary should have only those books from the input whose average rating is equal to or greater than 3.5."
   ]
  },
  {
   "cell_type": "code",
   "execution_count": 19,
   "metadata": {},
   "outputs": [
    {
     "name": "stdout",
     "output_type": "stream",
     "text": [
      "Crash with invalid threshold type (filter_books): '>=' not supported between instances of 'float' and 'str'\n"
     ]
    }
   ],
   "source": [
    "def filter_books(book_to_average_dict, threshold=3.0):\n",
    "    '''\n",
    "    IN: book_to_average_dict (dict{str: float}) - dictionary of average ratings\n",
    "        threshold (float) - minimum rating to keep\n",
    "    OUT: filtered_books_dict (dict{str: float}) - dictionary of books above threshold\n",
    "    '''\n",
    "\n",
    "    # Filter books above threshold\n",
    "    filtered_books_dict = {isbn: avg_rating for isbn, avg_rating in book_to_average_dict.items() if avg_rating >= threshold}\n",
    "    # Return filtered books\n",
    "    return filtered_books_dict\n",
    "\n",
    "\n",
    "#-----\n",
    "# Crash-inducing test case\n",
    "# Pass a string instead of a numeric threshold\n",
    "try:\n",
    "    result = filter_books({'034545104X': 4.5, '0486282406': 3.0}, threshold=\"high\")\n",
    "    print(result)\n",
    "except Exception as e:\n",
    "    print(\"Crash with invalid threshold type (filter_books):\", e)#----"
   ]
  },
  {
   "cell_type": "markdown",
   "metadata": {},
   "source": [
    "3. <font color=\"red\">[10 pts]</font> Popularity + Author Based - Edit\n",
    "\n",
    "    In most recommendation systems, creator of the movie/song/book plays an important role. Often, features like popularity, author(creator) are combined to present recommendations to a user.\n",
    "\n",
    "    Write a function <font color=\"brown\">get_popular_by_author</font> that, given a author, a author-to-books  dictionary (as created in Task 2.1), a dictionary of book-to-average rating (as created in Task 2.2), and an integer n (default 5), returns the top n most popular books  in that author  based on the average ratings. The return value should be a dictionary of book-to-average rating of books that make the cut. If there are fewer than n books, it should return all books in ranked order of average ratings from highest to lowest.\n",
    "\n",
    "    Note: some books in the `author_to_books_dict` dictionary may not appear in the `book_to_average_dict` dictionary. You should ignore such books."
   ]
  },
  {
   "cell_type": "code",
   "execution_count": 20,
   "metadata": {},
   "outputs": [
    {
     "name": "stdout",
     "output_type": "stream",
     "text": [
      "Crash with non-existent user ID (get_user_top_author): name 'get_user_top_author' is not defined\n",
      "Crash with no matching books (get_user_top_author): name 'get_user_top_author' is not defined\n"
     ]
    }
   ],
   "source": [
    "def get_popular_by_author(author, author_to_books_dict, book_to_average_dict, n=5):\n",
    "    '''\n",
    "    IN: author (str) - author name\n",
    "        author_to_books_dict (dict{str: list[str]}) - dictionary of authors and their books\n",
    "        book_to_average_dict (dict{str: float}) - dictionary of average ratings\n",
    "        n (int) - number of books to return\n",
    "    OUT: popular_books_by_author_dict (dict{str: float}) - dictionary of top n books by author\n",
    "    '''\n",
    "\n",
    "    # Get books by author\n",
    "    if author not in author_to_books_dict:\n",
    "        return {} #Return empty dictionary if author not found\n",
    "    \n",
    "    author_books = author_to_books_dict[author]\n",
    "\n",
    "    # Filter only those books that have average rating in book_to_average_dict\n",
    "    books_with_ratings = {isbn: book_to_average_dict[isbn] for isbn in author_books if isbn in book_to_average_dict}\n",
    "\n",
    "    # Sort books by average rating\n",
    "    sorted_books = sorted(books_with_ratings.items(), key=lambda x: x[1], reverse=True)\n",
    "\n",
    "    # Get the top n books or all books if there are fewer than n\n",
    "    popular_books_by_author = sorted_books[:n]\n",
    "\n",
    "    # Convert the list of tuples back to a dictionary\n",
    "    popular_books_by_author_dict = dict(popular_books_by_author)\n",
    "\n",
    "    # Return top n books\n",
    "    return popular_books_by_author_dict\n",
    "\n",
    "#----\n",
    "try:\n",
    "    result = get_user_top_author(9999, {1: [('034545104X', 5)]}, {'034545104X': 'Author 1'})\n",
    "    print(result)\n",
    "except Exception as e:\n",
    "    print(\"Crash with non-existent user ID (get_user_top_author):\", e)\n",
    "\n",
    "# Pass a dictionary with no valid books in the book_author_dict\n",
    "try:\n",
    "    result = get_user_top_author(1, {1: [('9999999999', 5)]}, {'034545104X': 'Author 1'})\n",
    "    print(result)\n",
    "except Exception as e:\n",
    "    print(\"Crash with no matching books (get_user_top_author):\", e)\n",
    "#------"
   ]
  },
  {
   "cell_type": "markdown",
   "metadata": {},
   "source": [
    "4. <font color=\"red\">[10  pts]</font>  Author Rating \n",
    "\n",
    "    One important analysis for content platforms is to determine ratings by Author\n",
    "\n",
    "    Write a function <font color=\"brown\">get_author_rating</font> that takes the same parameters as <font color=\"brown\">get_popular_by_author</font> above, except for n, and returns the average rating of the books in the given author."
   ]
  },
  {
   "cell_type": "code",
   "execution_count": 21,
   "metadata": {},
   "outputs": [
    {
     "name": "stdout",
     "output_type": "stream",
     "text": [
      "Crash with no user ratings (recommend_books): name 'recommend_books' is not defined\n",
      "Crash with empty author data (recommend_books): name 'recommend_books' is not defined\n"
     ]
    }
   ],
   "source": [
    "def get_author_rating(author, author_to_books_dict, book_to_average_dict):\n",
    "    '''\n",
    "    IN: author (str) - author name\n",
    "        author_to_books_dict (dict{str: list[str]}) - dictionary of authors and their books\n",
    "        book_ratings_dict (dict{str: list[int]}) - dictionary of ratings\n",
    "    OUT: author_rating (float) - average rating for author's books\n",
    "    '''\n",
    "\n",
    "    # Get books by author\n",
    "    if author not in author_to_books_dict:\n",
    "        return None # Return None if author not found\n",
    "    \n",
    "    author_books = author_to_books_dict[author]\n",
    "\n",
    "    # Get average ratings for books by the author\n",
    "    all_ratings = []\n",
    "    for isbn in author_books:\n",
    "        if isbn in book_to_average_dict: # Check if the book has an average rating\n",
    "            all_ratings.append(book_to_average_dict[isbn])\n",
    "\n",
    "    # If no ratings were found, return none\n",
    "    if not all_ratings:\n",
    "        return None\n",
    "\n",
    "    # Return average rating\n",
    "    author_rating = sum(all_ratings) / len(all_ratings)\n",
    "    return round(author_rating, 2)\n",
    "\n",
    "\n",
    "#-----\n",
    "try:\n",
    "    result = recommend_books(9999, {}, {'034545104X': 'Author 1'}, {'034545104X': 4.5})\n",
    "    print(result)\n",
    "except Exception as e:\n",
    "    print(\"Crash with no user ratings (recommend_books):\", e)\n",
    "\n",
    "# Pass an empty book_author_dict to induce a crash\n",
    "try:\n",
    "    result = recommend_books(1, {1: [('034545104X', 5)]}, {}, {'034545104X': 4.5})\n",
    "    print(result)\n",
    "except Exception as e:\n",
    "    print(\"Crash with empty author data (recommend_books):\", e)\n",
    "    #-----"
   ]
  },
  {
   "cell_type": "markdown",
   "metadata": {},
   "source": [
    "5. <font color=\"red\">[10 pts]</font> Author Popularity - Edit\n",
    "\n",
    "    Write a function <font color=\"brown\">author_popularity </font> that takes as parameters a author-to-books  dictionary (as created in Task 2.1), a book-to-average  rating dictionary (as created in Task 2.2), and n (default 5), and returns the top-n rated authors  as a dictionary of author-to-average  rating. If there are fewer than n authors , it should return all authors in ranked order of average ratings from highest to lowest. \n",
    "    Hint: Use the above get_author_rating function as a helper."
   ]
  },
  {
   "cell_type": "code",
   "execution_count": 24,
   "metadata": {},
   "outputs": [
    {
     "name": "stdout",
     "output_type": "stream",
     "text": [
      "{'Author 1': 4.0}\n"
     ]
    }
   ],
   "source": [
    "def author_popularity(author_to_books_dict, book_to_average_dict, n=5):\n",
    "    '''\n",
    "    IN: author_to_books_dict (dict{str: list[str]}) - dictionary of authors and their books\n",
    "        book_to_average_dict (dict{str: float}) - dictionary of average ratings\n",
    "        n (int) - number of authors to return\n",
    "    OUT: popular_authors_dict (dict{str: float}) - dictionary of top n authors\n",
    "    '''\n",
    "\n",
    "    # Calculate average rating for each author\n",
    "    author_ratings = {}\n",
    "    for author in author_to_books_dict:\n",
    "        # Get the average rating for the author using get_author_rating\n",
    "        avg_rating = get_author_rating(author, author_to_books_dict, book_to_average_dict)\n",
    "        if avg_rating is not None:\n",
    "            author_ratings[author] = avg_rating\n",
    "\n",
    "    # Sort atuhors by average rating in descending order\n",
    "    sorted_authors = sorted(author_ratings.items(), key=lambda x: x[1], reverse=True)\n",
    "\n",
    "    # Get the top n authors or all authors if there are fewer than n \n",
    "    popular_authors = sorted_authors[:n]\n",
    "    \n",
    "    # Convert list of typles back to a dictionary\n",
    "    popular_authors_dict = dict(popular_authors)\n",
    "\n",
    "    # Return top n authors\n",
    "    return popular_authors_dict\n",
    "\n",
    "\n",
    "#-----\n",
    "\n",
    "\n",
    "#-----"
   ]
  },
  {
   "cell_type": "markdown",
   "metadata": {},
   "source": [
    "<font color=\"blue\">**Task 4: User Focused**</font>"
   ]
  },
  {
   "cell_type": "markdown",
   "metadata": {},
   "source": [
    "1. <font color=\"red\">[10 pts]</font> Read the ratings file to return a user-to-books dictionary that maps user ID to a list of the books they rated, along with the rating they gave. Write a function named <font color=\"brown\">read_user_ratings</font> for this, with the ratings file as the parameter.\n",
    "For example: { 1: [('034545104X', 5), ('0385333498', 4)], 2: [('0142000663', 3)] } "
   ]
  },
  {
   "cell_type": "code",
   "execution_count": 25,
   "metadata": {},
   "outputs": [
    {
     "name": "stdout",
     "output_type": "stream",
     "text": [
      "Crash with malformed user ratings (read_user_ratings): invalid literal for int() with base 10: 'NotANumber'\n"
     ]
    }
   ],
   "source": [
    "def read_user_ratings(f):\n",
    "    '''\n",
    "    IN: f (str) - filename\n",
    "    OUT: user_to_book_ratings_dict (dict{str: list[tuple(str, int)]}) - dictionary of user ratings\n",
    "    '''\n",
    "\n",
    "    # Set up dictionary to store user ratings\n",
    "    user_to_book_ratings_dict = {}\n",
    "\n",
    "    # Open the file and read its contents\n",
    "    with open(f, 'r') as csvfile:\n",
    "        reader = csv.DictReader(csvfile)\n",
    "\n",
    "        # Loop through each row in the CSV file\n",
    "        for row in reader:\n",
    "            user_id = row['UserID']\n",
    "            isbn = row['ISBN']\n",
    "            rating = int(row['Rating'])\n",
    "\n",
    "        # Add the rating to the user-to-book dictionary\n",
    "        if user_id in user_to_book_ratings_dict:\n",
    "            user_to_book_ratings_dict[user_id].append((isbn, rating))\n",
    "        else:\n",
    "            user_to_book_ratings_dict[user_id] = [(isbn, rating)]\n",
    "\n",
    "    # Return the dictionary\n",
    "    return user_to_book_ratings_dict\n",
    "\n",
    "\n",
    "#----\n",
    "# Crash-inducing test for read_user_ratings\n",
    "invalid_user_ratings_csv = \"\"\"UserID,ISBN,Rating\n",
    "1,034545104X,5\n",
    "2,INVALIDISBN,NotANumber\n",
    "\"\"\"\n",
    "\n",
    "with open('invalid_user_ratings.csv', 'w') as f:\n",
    "    f.write(invalid_user_ratings_csv)\n",
    "\n",
    "try:\n",
    "    result = read_user_ratings('invalid_user_ratings.csv')\n",
    "    print(result)\n",
    "except Exception as e:\n",
    "    print(\"Crash with malformed user ratings (read_user_ratings):\", e)\n",
    "#------"
   ]
  },
  {
   "cell_type": "markdown",
   "metadata": {},
   "source": [
    "2. <font color=\"red\">[10 pts]</font> Write a function <font color=\"brown\"> get_user_top_author</font> that takes as parameters a userID, the user-to-books dictionary (as created in Task 4.1 above), and the book information dictionary (as created in Task 1.2), and returns the top author that the user likes based on the user's ratings. Here, the top author for the user will be determined by taking the average rating of the books author that the user has rated. If multiple author have the same highest ratings for the user, return any one of author (arbitrarily) as the top author.\n",
    "\n",
    "Notes: \n",
    "- Some books in the `user_to_book_ratings_dict` dictionary may not appear in the `book_author_dict` dictionary. You should ignore such books. \n",
    "- If none of the books rated by the user are present in the `book_author_dict` dictionary, return `None`."
   ]
  },
  {
   "cell_type": "code",
   "execution_count": 26,
   "metadata": {},
   "outputs": [
    {
     "name": "stdout",
     "output_type": "stream",
     "text": [
      "None\n"
     ]
    }
   ],
   "source": [
    "def get_user_top_author(user_ID, user_to_book_ratings_dict, book_author_dict):\n",
    "    '''\n",
    "    IN: userID (str) - user ID\n",
    "        user_to_book_ratings_dict (dict{str: list[tuple(str, int)]}) - dictionary of user ratings\n",
    "        book_author_dict (dict{str: str}) - dictionary of book authors\n",
    "    OUT: top_author (str) - author with highest average ratings by user\n",
    "    '''\n",
    "    # Check if the user exists in the user_to_book_ratings_dict\n",
    "    if user_ID not in user_to_book_ratings_dict:\n",
    "        return None\n",
    "    \n",
    "    # Dictionary to syore total ratings and count of books for each author\n",
    "    author_ratings = {}\n",
    "\n",
    "    # Loop through each book and rating for the user\n",
    "    for isbn, rating in user_to_book_ratings_dict[user_ID]:\n",
    "        # Check if the book has an author in the book_author_dict\n",
    "        if isbn in book_author_dict:\n",
    "            author = book_author_dict[isbn]\n",
    "            # Add the rating to the author's total\n",
    "            if author in author_ratings:\n",
    "                author_ratings[author]['total_rating'] += rating\n",
    "                author_ratings[author]['book_count'] += 1\n",
    "            else:\n",
    "                author_ratings[author] = {'total_rating': rating, 'book_count': 1}\n",
    "    \n",
    "    # If no authors were found for the user's books, return None\n",
    "    if not author_ratings:\n",
    "        return None\n",
    "    \n",
    "    # Calculate the average rating for each authior and find the top author\n",
    "    top_author = None\n",
    "    highest_avg_rating = 0\n",
    "\n",
    "    for author, data in author_ratings.items():\n",
    "        avg_rating = data['total_rating'] / data['book_count']\n",
    "        if avg_rating > highest_avg_rating:\n",
    "            highest_avg_rating = avg_rating\n",
    "            top_author = author\n",
    "\n",
    "    return top_author\n",
    "\n",
    "\n",
    "\n",
    "#-----\n",
    "#----"
   ]
  },
  {
   "cell_type": "markdown",
   "metadata": {},
   "source": [
    "3. <font color=\"red\">[10 pts]</font> Recommend 3 most popular (highest average rating) books from the user's top author that the user has not yet rated. Write a function <font color=\"brown\">recommend_books</font> for this, that takes as parameters a user id, the user-to-books dictionary (as created in Task 4.1 above), the author-to-books  dictionary (as created in Task 1.2), and the book-to-average  rating dictionary (as created in Task 2.2). The function should return a dictionary of book-to-average  rating. If fewer than 3  books  make the cut, then return all the  books that make the cut in ranked order of average ratings from highest to lowest."
   ]
  },
  {
   "cell_type": "code",
   "execution_count": 27,
   "metadata": {},
   "outputs": [
    {
     "name": "stdout",
     "output_type": "stream",
     "text": [
      "Crash with missing book average rating (recommend_books): cannot access local variable 'rated_books' where it is not associated with a value\n"
     ]
    }
   ],
   "source": [
    "RECOMMEND_NUM = 3\n",
    "def recommend_books(user_ID, user_to_book_ratings_dict, book_author_dict, book_to_average_dict):\n",
    "    '''\n",
    "    IN: userID (str) - user ID\n",
    "        user_to_book_ratings_dict (dict{str: list[tuple(str, int)]}) - dictionary of user ratings\n",
    "        book_author_dict (dict{str: str}) - dictionary of book authors\n",
    "        book_to_average_dict (dict{str: float}) - dictionary of average ratings\n",
    "    OUT: recommended_books_dict (dict{str: float}) - dictionary of recommended books\n",
    "    '''\n",
    "    # Get the user's top author\n",
    "    top_author = get_user_top_author(user_ID, user_to_book_ratings_dict, book_author_dict)\n",
    "\n",
    "    # If there is no top author, return an empty dictionary\n",
    "    if top_author is None:\n",
    "        return {}\n",
    "    \n",
    "    # Get the list of books by the top author\n",
    "    author_books = [isbn for isbn, author in book_author_dict.items() if author == top_author]\n",
    "\n",
    "    # Get the books the user has already rates\n",
    "    rated_books = {isbn for isbn in author_books if isbn not in rated_books and isbn in book_to_average_dict}\n",
    "\n",
    "    # Filter books by the top author that the user has not yet rated\n",
    "    unrated_books = [isbn for isbn in author_books if isbn not in rated_books and isbn in book_to_average_dict]\n",
    "\n",
    "    # Sort the unrated books by their average ratings in descending order\n",
    "    sorted_unrated_books = sorted(unrated_books, key=lambda isbn: book_to_average_dict[isbn], reverse=True)\n",
    "\n",
    "    # Get the top Recommend-NUM books (or fewer if there are not enough)\n",
    "    top_books = sorted_unrated_books[:RECOMMEND_NUM]\n",
    "\n",
    "    # Create a dictionary of recommended books with their average ratings\n",
    "    recommended_books_dict = {isbn: book_to_average_dict[isbn] for isbn in top_books}\n",
    "\n",
    "    return recommended_books_dict\n",
    "\n",
    "\n",
    "# Crash-inducing test for recommend_books\n",
    "user_ratings_dict = {\n",
    "    1: [('034545104X', 5)],\n",
    "    2: [('InvalidISBN', 3)]\n",
    "}\n",
    "\n",
    "book_author_dict = {\n",
    "    '034545104X': 'Author 1',\n",
    "    'InvalidISBN': 'Author 2'\n",
    "}\n",
    "\n",
    "book_avg_dict = {\n",
    "    '034545104X': 4.5,\n",
    "    # Missing average rating for 'InvalidISBN'\n",
    "}\n",
    "\n",
    "try:\n",
    "    result = recommend_books(2, user_ratings_dict, book_author_dict, book_avg_dict)\n",
    "    print(result)\n",
    "except Exception as e:\n",
    "    print(\"Crash with missing book average rating (recommend_books):\", e)\n"
   ]
  },
  {
   "cell_type": "code",
   "execution_count": null,
   "metadata": {},
   "outputs": [],
   "source": []
  }
 ],
 "metadata": {
  "kernelspec": {
   "display_name": "base",
   "language": "python",
   "name": "python3"
  },
  "language_info": {
   "codemirror_mode": {
    "name": "ipython",
    "version": 3
   },
   "file_extension": ".py",
   "mimetype": "text/x-python",
   "name": "python",
   "nbconvert_exporter": "python",
   "pygments_lexer": "ipython3",
   "version": "3.12.6"
  }
 },
 "nbformat": 4,
 "nbformat_minor": 2
}
